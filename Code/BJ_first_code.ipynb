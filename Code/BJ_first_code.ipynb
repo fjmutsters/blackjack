{
 "cells": [
  {
   "cell_type": "markdown",
   "metadata": {},
   "source": [
    "## BlackJack\n",
    "We are going to play a casino game of BlackJack (Twenty-One)  \n",
    "First player to win 3 rounds win\n",
    "\n",
    "## Rules\n",
    "Most important rules:  \n",
    "- The goal of blackjack is to beat the Dealer's hand without going over 21\n",
    "- Face cards are worth 10. Aces are worth 11 (**or 1, need to code!**), whichever makes a better hand\n",
    "- Each player starts with two cards, one of the dealer's cards is hidden until the end\n",
    "- To 'Hit' is to ask for another card. To 'Stand' is to hold your total and end your turn\n",
    "- If you go over 21 you bust, and the dealer wins regardless of the dealer's hand\n",
    "- **If you are dealt 21 from the start (Ace & 10), you got a blackjack (need to code!)\n",
    "- Dealer will hit until his/her cards total 17 or higher\n",
    "- First (player or dealer) to win 3 rounds wins game!"
   ]
  },
  {
   "cell_type": "markdown",
   "metadata": {},
   "source": [
    "*Create 2 lists and dictionary to build cards"
   ]
  },
  {
   "cell_type": "code",
   "execution_count": 1,
   "metadata": {},
   "outputs": [],
   "source": [
    "import random #import library to shuffle cards\n",
    "\n",
    "suits = ['Hearts', 'Diamonds', 'Spades', 'Clubs']\n",
    "ranks = [ \"Ace\", \"Two\", \"Three\", \"Four\", \"Five\", \"Six\", \"Seven\",\"Eight\", \"Nine\", \"Ten\", \"Jack\", \"Queen\", \"King\" ]\n",
    "values = {\"Ace\":11, \"Two\":2, \"Three\":3, \"Four\":4, \"Five\":5, \"Six\":6, \"Seven\":7, \"Eight\":8, \"Nine\":9, \"Ten\":10, \"Jack\":10, \"Queen\":10, \"King\":10}"
   ]
  },
  {
   "cell_type": "markdown",
   "metadata": {},
   "source": [
    "*Determine number of rounds to win"
   ]
  },
  {
   "cell_type": "code",
   "execution_count": 2,
   "metadata": {},
   "outputs": [],
   "source": [
    "rounds_to_win = 3"
   ]
  },
  {
   "cell_type": "markdown",
   "metadata": {},
   "source": [
    "*1) define Class Card incl. method to be able to print"
   ]
  },
  {
   "cell_type": "code",
   "execution_count": 3,
   "metadata": {},
   "outputs": [],
   "source": [
    "class Card:\n",
    "    def __init__(self, rank, suit):\n",
    "        self.rank = rank\n",
    "        self.suit = suit\n",
    "        \n",
    "    def __str__(self): # a string representation of Card in form Two of Hearts\n",
    "        return self.rank + ' of ' + self.suit"
   ]
  },
  {
   "cell_type": "markdown",
   "metadata": {},
   "source": [
    "*2) define Class Deck incl. methods to be able to print, shuffle and deal"
   ]
  },
  {
   "cell_type": "code",
   "execution_count": 4,
   "metadata": {},
   "outputs": [],
   "source": [
    "class Deck:\n",
    "    def __init__(self):\n",
    "        self.deck = []  # start with an empty list of cards\n",
    "        for rank in ranks:\n",
    "            for suit in suits:\n",
    "                self.deck.append(Card(rank, suit)) # build card objects and add them to the list\n",
    "    \n",
    "    def __str__(self):\n",
    "        deck_competition = '' # start with empty competition deck\n",
    "        for card in self.deck:\n",
    "            deck_competition += '\\n' + card.__str__() \n",
    "        return 'The deck has' + deck_competition # a string representation of Deck\n",
    "            \n",
    "    def shuffle(self): # method to shuffle the deck\n",
    "        random.shuffle(self.deck) \n",
    "        \n",
    "    def deal(self): # method to deal the deck\n",
    "        single_card = self.deck.pop() # function to remove element, default returns last item\n",
    "        return single_card"
   ]
  },
  {
   "cell_type": "markdown",
   "metadata": {},
   "source": [
    "*3) define Class Hand incl. methods to be able to xxx"
   ]
  },
  {
   "cell_type": "code",
   "execution_count": 5,
   "metadata": {},
   "outputs": [],
   "source": [
    "class Hand:\n",
    "    def __init__(self):\n",
    "        self.cards = []  # start with an empty list of cards\n",
    "        self.value = 0   # start with zero value\n",
    "    \n",
    "    def add_card(self,card):\n",
    "        self.cards.append(card)\n",
    "        self.value += values[card.rank]"
   ]
  },
  {
   "cell_type": "markdown",
   "metadata": {},
   "source": [
    "*Create function to take Hit (for dealer)"
   ]
  },
  {
   "cell_type": "code",
   "execution_count": 6,
   "metadata": {},
   "outputs": [],
   "source": [
    "def hit(deck, hand):\n",
    "    hand.add_card(deck.deal())"
   ]
  },
  {
   "cell_type": "markdown",
   "metadata": {},
   "source": [
    "*Create function for player to take Hit or Stand"
   ]
  },
  {
   "cell_type": "code",
   "execution_count": 7,
   "metadata": {},
   "outputs": [],
   "source": [
    "def hit_or_stand(deck,hand):\n",
    "    global playing\n",
    "    \n",
    "    while True:\n",
    "        x = input(\"Would you like to Hit or Stand? Enter 'h' or 's'\")\n",
    "        \n",
    "        if x[0] == 'h':\n",
    "            hit(deck,hand) #hit function as defined above\n",
    "\n",
    "        elif x[0] == 's':\n",
    "            print(\"Player stands. Dealer is playing.\")\n",
    "            playing = False\n",
    "\n",
    "        else:\n",
    "            print(\"Sorry, please try again.\")\n",
    "            continue\n",
    "        break"
   ]
  },
  {
   "cell_type": "markdown",
   "metadata": {},
   "source": [
    "*Create function to display the cards in beginning (Second card of dealer is hidden)"
   ]
  },
  {
   "cell_type": "code",
   "execution_count": 8,
   "metadata": {},
   "outputs": [],
   "source": [
    "def show_some(player,dealer):\n",
    "    print(\"\\nDealer's Hand\")\n",
    "    print(\"<card hidden>\")\n",
    "    print(dealer.cards[1])\n",
    "    print(\"\\nPlayer's Hand: \", *player.cards, sep= '\\n')\n",
    "    print(\"Hand's Value: \", player.value)"
   ]
  },
  {
   "cell_type": "markdown",
   "metadata": {},
   "source": [
    "*Create function to display the cards at end including values"
   ]
  },
  {
   "cell_type": "code",
   "execution_count": 9,
   "metadata": {},
   "outputs": [],
   "source": [
    "def show_all(player,dealer):\n",
    "    print(\"\\nDealer's Hand:\", *player.cards, sep=\"\\n\")\n",
    "    print(\"Dealer's Hand =\",dealer.value)\n",
    "    print(\"\\nPlayer's Hand: \", *player.cards, sep= '\\n')\n",
    "    print(\"Player's Hand = \", player.value)"
   ]
  },
  {
   "cell_type": "markdown",
   "metadata": {},
   "source": [
    "*Create functions for end scenarios"
   ]
  },
  {
   "cell_type": "code",
   "execution_count": 10,
   "metadata": {},
   "outputs": [],
   "source": [
    "def player_busts(player,dealer):\n",
    "    global dealer_score\n",
    "    dealer_score += 1\n",
    "    print(\"Player busts! So dealer wins round!\", f\"Player {player_score} vs. Dealer {dealer_score}\")\n",
    "\n",
    "def player_wins(player,dealer):\n",
    "    global player_score\n",
    "    player_score += 1\n",
    "    print(\"Player wins round!\", f\"Player {player_score} vs. Dealer {dealer_score}\")\n",
    "\n",
    "def dealer_busts(player,dealer):\n",
    "    global player_score\n",
    "    player_score += 1\n",
    "    print(\"Dealer busts! So player wins round!\", f\"Player {player_score} vs. Dealer {dealer_score}\")\n",
    "    \n",
    "def dealer_wins(player,dealer):\n",
    "    global dealer_score\n",
    "    dealer_score += 1\n",
    "    print(\"Dealer wins round!\", f\"Player {player_score} vs. Dealer {dealer_score}\")\n",
    "    \n",
    "def tie(player,dealer):\n",
    "    print(\"Dealer and Player tie this round!\", f\"Player {player_score} vs. Dealer {dealer_score}\")  "
   ]
  },
  {
   "cell_type": "markdown",
   "metadata": {},
   "source": [
    "*Coding of gameplay"
   ]
  },
  {
   "cell_type": "code",
   "execution_count": null,
   "metadata": {},
   "outputs": [
    {
     "name": "stdout",
     "output_type": "stream",
     "text": [
      "Welcome to Blackjack! First one that wins 3 rounds wins the game!\n",
      "\n",
      "Dealer's Hand\n",
      "<card hidden>\n",
      "Nine of Spades\n",
      "\n",
      "Player's Hand: \n",
      "Seven of Hearts\n",
      "King of Hearts\n",
      "Hand's Value:  17\n"
     ]
    },
    {
     "name": "stdin",
     "output_type": "stream",
     "text": [
      "Would you like to Hit or Stand? Enter 'h' or 's' s\n"
     ]
    },
    {
     "name": "stdout",
     "output_type": "stream",
     "text": [
      "Player stands. Dealer is playing.\n",
      "\n",
      "Dealer's Hand\n",
      "<card hidden>\n",
      "Nine of Spades\n",
      "\n",
      "Player's Hand: \n",
      "Seven of Hearts\n",
      "King of Hearts\n",
      "Hand's Value:  17\n",
      "\n",
      "Dealer's Hand:\n",
      "Seven of Hearts\n",
      "King of Hearts\n",
      "Dealer's Hand = 19\n",
      "\n",
      "Player's Hand: \n",
      "Seven of Hearts\n",
      "King of Hearts\n",
      "Player's Hand =  17\n",
      "Dealer wins round! Player 0 vs. Dealer 1\n",
      "BLACK JACK\n",
      "\n",
      "Dealer's Hand\n",
      "<card hidden>\n",
      "Ten of Clubs\n",
      "\n",
      "Player's Hand: \n",
      "Three of Clubs\n",
      "Five of Spades\n",
      "Hand's Value:  8\n"
     ]
    },
    {
     "name": "stdin",
     "output_type": "stream",
     "text": [
      "Would you like to Hit or Stand? Enter 'h' or 's' h\n"
     ]
    },
    {
     "name": "stdout",
     "output_type": "stream",
     "text": [
      "\n",
      "Dealer's Hand\n",
      "<card hidden>\n",
      "Ten of Clubs\n",
      "\n",
      "Player's Hand: \n",
      "Three of Clubs\n",
      "Five of Spades\n",
      "Two of Hearts\n",
      "Hand's Value:  10\n"
     ]
    },
    {
     "name": "stdin",
     "output_type": "stream",
     "text": [
      "Would you like to Hit or Stand? Enter 'h' or 's' h\n"
     ]
    },
    {
     "name": "stdout",
     "output_type": "stream",
     "text": [
      "\n",
      "Dealer's Hand\n",
      "<card hidden>\n",
      "Ten of Clubs\n",
      "\n",
      "Player's Hand: \n",
      "Three of Clubs\n",
      "Five of Spades\n",
      "Two of Hearts\n",
      "Eight of Diamonds\n",
      "Hand's Value:  18\n"
     ]
    },
    {
     "name": "stdin",
     "output_type": "stream",
     "text": [
      "Would you like to Hit or Stand? Enter 'h' or 's' s\n"
     ]
    },
    {
     "name": "stdout",
     "output_type": "stream",
     "text": [
      "Player stands. Dealer is playing.\n",
      "\n",
      "Dealer's Hand\n",
      "<card hidden>\n",
      "Ten of Clubs\n",
      "\n",
      "Player's Hand: \n",
      "Three of Clubs\n",
      "Five of Spades\n",
      "Two of Hearts\n",
      "Eight of Diamonds\n",
      "Hand's Value:  18\n",
      "\n",
      "Dealer's Hand:\n",
      "Three of Clubs\n",
      "Five of Spades\n",
      "Two of Hearts\n",
      "Eight of Diamonds\n",
      "Dealer's Hand = 20\n",
      "\n",
      "Player's Hand: \n",
      "Three of Clubs\n",
      "Five of Spades\n",
      "Two of Hearts\n",
      "Eight of Diamonds\n",
      "Player's Hand =  18\n",
      "Dealer wins round! Player 0 vs. Dealer 2\n",
      "\n",
      "Dealer's Hand\n",
      "<card hidden>\n",
      "Jack of Diamonds\n",
      "\n",
      "Player's Hand: \n",
      "Two of Clubs\n",
      "Five of Clubs\n",
      "Hand's Value:  7\n"
     ]
    },
    {
     "name": "stdin",
     "output_type": "stream",
     "text": [
      "Would you like to Hit or Stand? Enter 'h' or 's' h\n"
     ]
    },
    {
     "name": "stdout",
     "output_type": "stream",
     "text": [
      "\n",
      "Dealer's Hand\n",
      "<card hidden>\n",
      "Jack of Diamonds\n",
      "\n",
      "Player's Hand: \n",
      "Two of Clubs\n",
      "Five of Clubs\n",
      "Eight of Clubs\n",
      "Hand's Value:  15\n"
     ]
    },
    {
     "name": "stdin",
     "output_type": "stream",
     "text": [
      "Would you like to Hit or Stand? Enter 'h' or 's' h\n"
     ]
    },
    {
     "name": "stdout",
     "output_type": "stream",
     "text": [
      "\n",
      "Dealer's Hand\n",
      "<card hidden>\n",
      "Jack of Diamonds\n",
      "\n",
      "Player's Hand: \n",
      "Two of Clubs\n",
      "Five of Clubs\n",
      "Eight of Clubs\n",
      "Three of Diamonds\n",
      "Hand's Value:  18\n"
     ]
    },
    {
     "name": "stdin",
     "output_type": "stream",
     "text": [
      "Would you like to Hit or Stand? Enter 'h' or 's' s\n"
     ]
    },
    {
     "name": "stdout",
     "output_type": "stream",
     "text": [
      "Player stands. Dealer is playing.\n",
      "\n",
      "Dealer's Hand\n",
      "<card hidden>\n",
      "Jack of Diamonds\n",
      "\n",
      "Player's Hand: \n",
      "Two of Clubs\n",
      "Five of Clubs\n",
      "Eight of Clubs\n",
      "Three of Diamonds\n",
      "Hand's Value:  18\n",
      "\n",
      "Dealer's Hand:\n",
      "Two of Clubs\n",
      "Five of Clubs\n",
      "Eight of Clubs\n",
      "Three of Diamonds\n",
      "Dealer's Hand = 17\n",
      "\n",
      "Player's Hand: \n",
      "Two of Clubs\n",
      "Five of Clubs\n",
      "Eight of Clubs\n",
      "Three of Diamonds\n",
      "Player's Hand =  18\n",
      "Player wins round! Player 1 vs. Dealer 2\n",
      "\n",
      "Dealer's Hand\n",
      "<card hidden>\n",
      "Three of Spades\n",
      "\n",
      "Player's Hand: \n",
      "Queen of Diamonds\n",
      "Two of Diamonds\n",
      "Hand's Value:  12\n"
     ]
    },
    {
     "name": "stdin",
     "output_type": "stream",
     "text": [
      "Would you like to Hit or Stand? Enter 'h' or 's' h\n"
     ]
    },
    {
     "name": "stdout",
     "output_type": "stream",
     "text": [
      "\n",
      "Dealer's Hand\n",
      "<card hidden>\n",
      "Three of Spades\n",
      "\n",
      "Player's Hand: \n",
      "Queen of Diamonds\n",
      "Two of Diamonds\n",
      "Ten of Clubs\n",
      "Hand's Value:  22\n",
      "Player busts! So dealer wins round! Player 1 vs. Dealer 3\n",
      "DEALER WINS!\n"
     ]
    }
   ],
   "source": [
    "player_score = 0\n",
    "dealer_score = 0\n",
    "playing = True\n",
    "\n",
    "print(\"Welcome to Blackjack! First one that wins 3 rounds wins the game!\")\n",
    "    \n",
    "while True:\n",
    "    # Create & shuffle the deck, deal two cards to each player\n",
    "    deck = Deck()\n",
    "    deck.shuffle()\n",
    "    \n",
    "    player_hand = Hand()\n",
    "    player_hand.add_card(deck.deal())\n",
    "    player_hand.add_card(deck.deal())\n",
    "    \n",
    "    dealer_hand = Hand()\n",
    "    dealer_hand.add_card(deck.deal())\n",
    "    dealer_hand.add_card(deck.deal())\n",
    "    \n",
    "    if player_hand.value == 21:\n",
    "        print(\"BLACK JACK\")\n",
    "        continue\n",
    "            \n",
    "    # Show cards\n",
    "    show_some(player_hand, dealer_hand)\n",
    "    \n",
    "    while playing:  # variable from hit_or_stand function\n",
    "        \n",
    "        # Prompt for Player to Hit or Stand\n",
    "        hit_or_stand(deck, player_hand) \n",
    "        \n",
    "        # Show cards (but keep one dealer card hidden)\n",
    "        show_some(player_hand,dealer_hand) \n",
    "        \n",
    "        # If player's hand exceeds 21, run player_busts() and break out of loop    \n",
    "        if player_hand.value >21:\n",
    "            player_busts(player_hand, dealer_hand)\n",
    "            break\n",
    "\n",
    "    # If Player hasn't busted, play Dealer's hand until Dealer reaches 17\n",
    "    if player_hand.value <= 21:\n",
    "        while dealer_hand.value <17:\n",
    "            hit(deck, dealer_hand)\n",
    "    \n",
    "        # Show all cards\n",
    "        show_all(player_hand,dealer_hand)\n",
    "        \n",
    "        # Run different winning scenarios\n",
    "        if dealer_hand.value > 21:\n",
    "            dealer_busts(player_hand,dealer_hand)\n",
    "\n",
    "        elif dealer_hand.value > player_hand.value:\n",
    "            dealer_wins(player_hand,dealer_hand)\n",
    "\n",
    "        elif dealer_hand.value < player_hand.value:\n",
    "            player_wins(player_hand,dealer_hand)\n",
    "\n",
    "        else:\n",
    "            tie(player_hand,dealer_hand)\n",
    "    \n",
    "    # Check if keep playing\n",
    "    if dealer_score < rounds_to_win and player_score < rounds_to_win:\n",
    "        playing = True\n",
    "        continue\n",
    "    else:\n",
    "        if player_score > dealer_score:\n",
    "            print('PLAYER WINS!')\n",
    "            new_game = input(\"would you like to play again? Enter 'y' or 'n'\")\n",
    "            if new_game[0] == 'y':\n",
    "                playing = True\n",
    "                continue\n",
    "            else:\n",
    "                print('Thanks for playing! ')\n",
    "                break\n",
    "        else: \n",
    "            print('DEALER WINS!')\n",
    "            new_game = input(\"would you like to play again? Enter 'y' or 'n'\")\n",
    "            if new_game[0] == 'y':\n",
    "                playing = True\n",
    "                continue\n",
    "            else:\n",
    "                print('Thanks for playing! ')    \n",
    "                break"
   ]
  },
  {
   "cell_type": "code",
   "execution_count": null,
   "metadata": {},
   "outputs": [],
   "source": []
  }
 ],
 "metadata": {
  "kernelspec": {
   "display_name": "Python 3",
   "language": "python",
   "name": "python3"
  },
  "language_info": {
   "codemirror_mode": {
    "name": "ipython",
    "version": 3
   },
   "file_extension": ".py",
   "mimetype": "text/x-python",
   "name": "python",
   "nbconvert_exporter": "python",
   "pygments_lexer": "ipython3",
   "version": "3.8.3"
  }
 },
 "nbformat": 4,
 "nbformat_minor": 4
}
