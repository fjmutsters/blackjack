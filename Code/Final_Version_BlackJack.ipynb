{
 "cells": [
  {
   "cell_type": "markdown",
   "metadata": {},
   "source": [
    "## BlackJack\n",
    "We are going to play a casino game of BlackJack (Twenty-One). Some simple instructions:    \n",
    "- From time to time you are asked to press enter to continue the game (this way you can follow the gameplay the best)\n",
    "- Below you can find the rules\n",
    "\n",
    "\n",
    "## Rules \n",
    "- The goal of blackjack is to beat the Dealer's hand without going over 21\n",
    "- Cards are worth rank on card, except for face cards that are worth 10. Aces are worth 11 or 1, whichever makes a better hand\n",
    "- The player starts with two cards and has first turn\n",
    "- One of the dealer's cards is hidden until the dealer is playing\n",
    "- To 'Hit' is to ask for another card. To 'Stand' is to hold your total and end your turn\n",
    "- If you go over 21 you bust, and the dealer wins regardless of the dealer's hand\n",
    "- If you are dealt 21 from the start (Ace & 10), you got a BlackJack\n",
    "- Dealer will hit until his/her cards total 17 or higher\n",
    "- First (player or dealer) to win # number rounds (player determines number of rounds) wins game!"
   ]
  },
  {
   "cell_type": "markdown",
   "metadata": {},
   "source": [
    "Create 2 lists and dictionary to build cards:"
   ]
  },
  {
   "cell_type": "code",
   "execution_count": 1,
   "metadata": {},
   "outputs": [],
   "source": [
    "import random #import library to shuffle cards\n",
    "\n",
    "suits = ['Hearts', 'Diamonds', 'Spades', 'Clubs']\n",
    "ranks = [ \"Ace\", \"Two\", \"Three\", \"Four\", \"Five\", \"Six\", \"Seven\",\"Eight\", \"Nine\", \"Ten\", \"Jack\", \"Queen\", \"King\" ]\n",
    "values = {\"Ace\":11, \"Two\":2, \"Three\":3, \"Four\":4, \"Five\":5, \"Six\":6, \"Seven\":7, \"Eight\":8, \"Nine\":9, \"Ten\":10, \"Jack\":10, \"Queen\":10, \"King\":10}"
   ]
  },
  {
   "cell_type": "markdown",
   "metadata": {},
   "source": [
    "1) define Class Card incl. method to be able to print cards:"
   ]
  },
  {
   "cell_type": "code",
   "execution_count": 2,
   "metadata": {},
   "outputs": [],
   "source": [
    "class Card:\n",
    "    def __init__(self, rank, suit):\n",
    "        self.rank = rank\n",
    "        self.suit = suit\n",
    "        \n",
    "    def __str__(self): # a string representation of Card in form of Two of Hearts\n",
    "        return self.rank + ' of ' + self.suit"
   ]
  },
  {
   "cell_type": "markdown",
   "metadata": {},
   "source": [
    "2) define Class Deck incl. methods to be able to print, shuffle & deal: "
   ]
  },
  {
   "cell_type": "code",
   "execution_count": 3,
   "metadata": {},
   "outputs": [],
   "source": [
    "class Deck:\n",
    "    def __init__(self):\n",
    "        self.deck = []  # start with an empty list of cards\n",
    "        for rank in ranks:\n",
    "            for suit in suits:\n",
    "                self.deck.append(Card(rank, suit)) # build card objects and add them to the list\n",
    "    \n",
    "    def __str__(self):\n",
    "        deck_competition = '' # start with empty competition deck\n",
    "        for card in self.deck:\n",
    "            deck_competition += '\\n' + card.__str__() \n",
    "        return 'The deck has' + deck_competition # a string representation of Deck\n",
    "            \n",
    "    def shuffle(self): # method to shuffle the deck\n",
    "        random.shuffle(self.deck) \n",
    "        \n",
    "    def deal(self): # method to deal the deck\n",
    "        single_card = self.deck.pop() # function to remove element, default returns last item\n",
    "        return single_card"
   ]
  },
  {
   "cell_type": "markdown",
   "metadata": {},
   "source": [
    "3) define Class Hand incl. methods to be able to add & show cards and :"
   ]
  },
  {
   "cell_type": "code",
   "execution_count": 4,
   "metadata": {},
   "outputs": [],
   "source": [
    "class Hand:\n",
    "    def __init__(self):\n",
    "        self.cards = []  # start with an empty list of cards\n",
    "        self.value = 0   # start with zero value\n",
    "        self.aces = 0    # add an attribute to keep track of aces\n",
    "    \n",
    "    def add_card(self,card):\n",
    "        self.cards.append(card)\n",
    "        self.value += values[card.rank]\n",
    "        if card.rank == 'Ace':\n",
    "            self.aces += 1\n",
    "        \n",
    "    def show_cards(self):\n",
    "        print(\"\\nHand: \")\n",
    "        for c in self.cards:\n",
    "            print(c) \n",
    "        print(\"Hand's Value: \", self.value)\n",
    "        \n",
    "    def adjust_for_ace(self):\n",
    "        while self.value > 21 and self.aces:\n",
    "            self.value -= 10\n",
    "            self.aces -= 1"
   ]
  },
  {
   "cell_type": "markdown",
   "metadata": {},
   "source": [
    "Seperate function to show cards in beginning of player and dealer:"
   ]
  },
  {
   "cell_type": "code",
   "execution_count": 5,
   "metadata": {},
   "outputs": [],
   "source": [
    "# I do not know how to code this function in class Hand. Player and dealer are 2 instances of class that behave differently\n",
    "\n",
    "def show_beginning(player, dealer):\n",
    "    print(\"\\nDealer's Hand\")\n",
    "    print(\"<card hidden>\")\n",
    "    print(dealer.cards[1])\n",
    "    print(\"\\nPlayer's Hand: \", *player.cards, sep= '\\n')\n",
    "    print(\"Hand's Value: \", player.value)"
   ]
  },
  {
   "cell_type": "markdown",
   "metadata": {},
   "source": [
    "Gameplay:\n",
    "Possible improvements: create class Game with functions:\n",
    "- function for rounds_to_win\n",
    "- function for new_game"
   ]
  },
  {
   "cell_type": "code",
   "execution_count": null,
   "metadata": {},
   "outputs": [
    {
     "name": "stdin",
     "output_type": "stream",
     "text": [
      "Welcome to BlackJack! How many rounds do you want to play? 3\n"
     ]
    },
    {
     "name": "stdout",
     "output_type": "stream",
     "text": [
      "\n",
      "First one that wins 3 round(s) wins this game of BlackJack! Let's begin and good luck!\n"
     ]
    },
    {
     "name": "stdin",
     "output_type": "stream",
     "text": [
      "Press Enter to continue... \n"
     ]
    },
    {
     "name": "stdout",
     "output_type": "stream",
     "text": [
      "\n",
      "Dealer's Hand\n",
      "<card hidden>\n",
      "Eight of Spades\n",
      "\n",
      "Player's Hand: \n",
      "Three of Hearts\n",
      "Five of Clubs\n",
      "Hand's Value:  8\n"
     ]
    },
    {
     "name": "stdin",
     "output_type": "stream",
     "text": [
      "Would you like to Hit or Stand? Enter 'h' or 's' h\n"
     ]
    },
    {
     "name": "stdout",
     "output_type": "stream",
     "text": [
      "\n",
      "Hand: \n",
      "Three of Hearts\n",
      "Five of Clubs\n",
      "Five of Hearts\n",
      "Hand's Value:  13\n"
     ]
    },
    {
     "name": "stdin",
     "output_type": "stream",
     "text": [
      "Would you like to Hit or Stand? Enter 'h' or 's' h\n"
     ]
    },
    {
     "name": "stdout",
     "output_type": "stream",
     "text": [
      "\n",
      "Hand: \n",
      "Three of Hearts\n",
      "Five of Clubs\n",
      "Five of Hearts\n",
      "Seven of Hearts\n",
      "Hand's Value:  20\n"
     ]
    },
    {
     "name": "stdin",
     "output_type": "stream",
     "text": [
      "Would you like to Hit or Stand? Enter 'h' or 's' s\n"
     ]
    },
    {
     "name": "stdout",
     "output_type": "stream",
     "text": [
      "\n",
      "Player stands. Dealer is playing.\n",
      "\n",
      "Hand: \n",
      "Six of Clubs\n",
      "Eight of Spades\n",
      "Hand's Value:  14\n"
     ]
    },
    {
     "name": "stdin",
     "output_type": "stream",
     "text": [
      "Press Enter to continue... \n"
     ]
    },
    {
     "name": "stdout",
     "output_type": "stream",
     "text": [
      "\n",
      "Hand: \n",
      "Six of Clubs\n",
      "Eight of Spades\n",
      "Five of Diamonds\n",
      "Hand's Value:  19\n"
     ]
    },
    {
     "name": "stdin",
     "output_type": "stream",
     "text": [
      "Press Enter to continue... \n"
     ]
    },
    {
     "name": "stdout",
     "output_type": "stream",
     "text": [
      "\n",
      "Player wins round! Player 1 vs. Dealer 0\n"
     ]
    },
    {
     "name": "stdin",
     "output_type": "stream",
     "text": [
      "Press Enter to continue... \n"
     ]
    },
    {
     "name": "stdout",
     "output_type": "stream",
     "text": [
      "\n",
      "Dealer's Hand\n",
      "<card hidden>\n",
      "Jack of Hearts\n",
      "\n",
      "Player's Hand: \n",
      "Jack of Spades\n",
      "Nine of Spades\n",
      "Hand's Value:  19\n"
     ]
    },
    {
     "name": "stdin",
     "output_type": "stream",
     "text": [
      "Would you like to Hit or Stand? Enter 'h' or 's' s\n"
     ]
    },
    {
     "name": "stdout",
     "output_type": "stream",
     "text": [
      "\n",
      "Player stands. Dealer is playing.\n",
      "\n",
      "Hand: \n",
      "Nine of Hearts\n",
      "Jack of Hearts\n",
      "Hand's Value:  19\n"
     ]
    },
    {
     "name": "stdin",
     "output_type": "stream",
     "text": [
      "Press Enter to continue... \n"
     ]
    },
    {
     "name": "stdout",
     "output_type": "stream",
     "text": [
      "\n",
      "Dealer and Player tie this round! Player 1 vs. Dealer 0\n"
     ]
    },
    {
     "name": "stdin",
     "output_type": "stream",
     "text": [
      "Press Enter to continue... \n"
     ]
    },
    {
     "name": "stdout",
     "output_type": "stream",
     "text": [
      "\n",
      "Dealer's Hand\n",
      "<card hidden>\n",
      "Three of Clubs\n",
      "\n",
      "Player's Hand: \n",
      "Two of Diamonds\n",
      "Queen of Spades\n",
      "Hand's Value:  12\n"
     ]
    },
    {
     "name": "stdin",
     "output_type": "stream",
     "text": [
      "Would you like to Hit or Stand? Enter 'h' or 's' h\n"
     ]
    },
    {
     "name": "stdout",
     "output_type": "stream",
     "text": [
      "\n",
      "Hand: \n",
      "Two of Diamonds\n",
      "Queen of Spades\n",
      "Four of Hearts\n",
      "Hand's Value:  16\n"
     ]
    },
    {
     "name": "stdin",
     "output_type": "stream",
     "text": [
      "Would you like to Hit or Stand? Enter 'h' or 's' h\n"
     ]
    },
    {
     "name": "stdout",
     "output_type": "stream",
     "text": [
      "\n",
      "Hand: \n",
      "Two of Diamonds\n",
      "Queen of Spades\n",
      "Four of Hearts\n",
      "Queen of Clubs\n",
      "Hand's Value:  26\n",
      "\n",
      "Player busts! So dealer wins round! Player 1 vs. Dealer 1\n"
     ]
    },
    {
     "name": "stdin",
     "output_type": "stream",
     "text": [
      "Press Enter to continue... \n"
     ]
    },
    {
     "name": "stdout",
     "output_type": "stream",
     "text": [
      "\n",
      "Dealer's Hand\n",
      "<card hidden>\n",
      "Five of Spades\n",
      "\n",
      "Player's Hand: \n",
      "Seven of Spades\n",
      "Nine of Clubs\n",
      "Hand's Value:  16\n"
     ]
    },
    {
     "name": "stdin",
     "output_type": "stream",
     "text": [
      "Would you like to Hit or Stand? Enter 'h' or 's' h\n"
     ]
    },
    {
     "name": "stdout",
     "output_type": "stream",
     "text": [
      "\n",
      "Hand: \n",
      "Seven of Spades\n",
      "Nine of Clubs\n",
      "Two of Clubs\n",
      "Hand's Value:  18\n"
     ]
    },
    {
     "name": "stdin",
     "output_type": "stream",
     "text": [
      "Would you like to Hit or Stand? Enter 'h' or 's' s\n"
     ]
    },
    {
     "name": "stdout",
     "output_type": "stream",
     "text": [
      "\n",
      "Player stands. Dealer is playing.\n",
      "\n",
      "Hand: \n",
      "Eight of Hearts\n",
      "Five of Spades\n",
      "Hand's Value:  13\n"
     ]
    },
    {
     "name": "stdin",
     "output_type": "stream",
     "text": [
      "Press Enter to continue... \n"
     ]
    },
    {
     "name": "stdout",
     "output_type": "stream",
     "text": [
      "\n",
      "Hand: \n",
      "Eight of Hearts\n",
      "Five of Spades\n",
      "Seven of Diamonds\n",
      "Hand's Value:  20\n"
     ]
    },
    {
     "name": "stdin",
     "output_type": "stream",
     "text": [
      "Press Enter to continue... \n"
     ]
    },
    {
     "name": "stdout",
     "output_type": "stream",
     "text": [
      "\n",
      "Dealer wins round! Player 1 vs. Dealer 2\n"
     ]
    },
    {
     "name": "stdin",
     "output_type": "stream",
     "text": [
      "Press Enter to continue... \n"
     ]
    },
    {
     "name": "stdout",
     "output_type": "stream",
     "text": [
      "\n",
      "Dealer's Hand\n",
      "<card hidden>\n",
      "Eight of Spades\n",
      "\n",
      "Player's Hand: \n",
      "Ten of Hearts\n",
      "Six of Diamonds\n",
      "Hand's Value:  16\n"
     ]
    },
    {
     "name": "stdin",
     "output_type": "stream",
     "text": [
      "Would you like to Hit or Stand? Enter 'h' or 's' h\n"
     ]
    },
    {
     "name": "stdout",
     "output_type": "stream",
     "text": [
      "\n",
      "Hand: \n",
      "Ten of Hearts\n",
      "Six of Diamonds\n",
      "Seven of Spades\n",
      "Hand's Value:  23\n",
      "\n",
      "Player busts! So dealer wins round! Player 1 vs. Dealer 3\n"
     ]
    },
    {
     "name": "stdin",
     "output_type": "stream",
     "text": [
      "Press Enter to continue... \n"
     ]
    },
    {
     "name": "stdout",
     "output_type": "stream",
     "text": [
      "DEALER WINS!\n"
     ]
    }
   ],
   "source": [
    "player_score = 0\n",
    "dealer_score = 0\n",
    "\n",
    "while True:\n",
    "  try:\n",
    "     rounds_to_win  = int(input(\"Welcome to BlackJack! How many rounds do you want to play?\"))       \n",
    "  except ValueError:\n",
    "     print(\"Sorry, your input is not a number!\")\n",
    "     continue\n",
    "  else:\n",
    "     break \n",
    "\n",
    "print(f\"\\nFirst one that wins {rounds_to_win} round(s) wins this game of BlackJack! Let's begin and good luck!\")\n",
    "input(\"Press Enter to continue...\")\n",
    "    \n",
    "while dealer_score < rounds_to_win and player_score < rounds_to_win:\n",
    "    # Create & shuffle the deck, deal two cards to each player\n",
    "    deck = Deck()\n",
    "    deck.shuffle()\n",
    "    \n",
    "    player = Hand()\n",
    "    player.add_card(deck.deal())\n",
    "    player.add_card(deck.deal())\n",
    "    \n",
    "    dealer = Hand()\n",
    "    dealer.add_card(deck.deal())\n",
    "    dealer.add_card(deck.deal())\n",
    "    \n",
    "    if player.value == 21:\n",
    "        print(\"BLACK JACK\")\n",
    "        continue\n",
    "            \n",
    "    # Show cards\n",
    "    show_beginning(player, dealer)\n",
    "    \n",
    "    # Prompt for Player to Hit or Stand\n",
    "    while player.value <21:\n",
    "        x = input(\"Would you like to Hit or Stand? Enter 'h' or 's'\")\n",
    "        if x[0] == 'h':\n",
    "            player.add_card(deck.deal())\n",
    "            player.adjust_for_ace()\n",
    "            player.show_cards()\n",
    "        elif x[0] == 's':\n",
    "            print(\"\\nPlayer stands. Dealer is playing.\")\n",
    "            break\n",
    "        else:\n",
    "            print(\"Sorry your input is not recognized, please try again.\")\n",
    "            continue\n",
    "        \n",
    "    # If player's hand exceeds 21, dealer wins round  \n",
    "    if player.value >21:\n",
    "        dealer_score += 1\n",
    "        print(\"\\nPlayer busts! So dealer wins round!\", f\"Player {player_score} vs. Dealer {dealer_score}\")\n",
    "        input(\"Press Enter to continue...\")\n",
    "\n",
    "    # If Player hasn't busted, play Dealer's hand until Dealer reaches 17\n",
    "    if player.value <= 21:\n",
    "        dealer.show_cards()\n",
    "        input(\"Press Enter to continue...\")\n",
    "        while dealer.value <17:\n",
    "            dealer.add_card(deck.deal())\n",
    "            dealer.adjust_for_ace()\n",
    "            dealer.show_cards()\n",
    "            input(\"Press Enter to continue...\")\n",
    "        \n",
    "        # Run different winning scenarios\n",
    "        if dealer.value > 21:\n",
    "            player_score += 1\n",
    "            print(\"\\nDealer busts! So player wins round!\", f\"Player {player_score} vs. Dealer {dealer_score}\")\n",
    "            input(\"Press Enter to continue...\")\n",
    "\n",
    "        elif dealer.value > player.value:\n",
    "            dealer_score += 1\n",
    "            print(\"\\nDealer wins round!\", f\"Player {player_score} vs. Dealer {dealer_score}\")\n",
    "            input(\"Press Enter to continue...\")\n",
    "\n",
    "        elif dealer.value < player.value:\n",
    "            player_score += 1\n",
    "            print(\"\\nPlayer wins round!\", f\"Player {player_score} vs. Dealer {dealer_score}\")\n",
    "            input(\"Press Enter to continue...\")\n",
    "        else:\n",
    "            print(\"\\nDealer and Player tie this round!\", f\"Player {player_score} vs. Dealer {dealer_score}\")\n",
    "            input(\"Press Enter to continue...\")\n",
    "            \n",
    "    # Check if keep playing\n",
    "    if dealer_score < rounds_to_win and player_score < rounds_to_win:\n",
    "        continue\n",
    "    \n",
    "    else:\n",
    "        if player_score > dealer_score:\n",
    "            print('PLAYER WINS!')\n",
    "            new_game = input(\"would you like to play again? Enter 'y' or 'n'\")\n",
    "            if new_game[0] == 'y':\n",
    "                player_score = 0\n",
    "                dealer_score = 0\n",
    "                continue\n",
    "            elif new_game[0] == 'n':\n",
    "                print('Thanks for playing! ')\n",
    "                break\n",
    "            else:\n",
    "                print(\"Sorry your input is not recognized, please try again.\")\n",
    "                continue\n",
    "        else: \n",
    "            print('DEALER WINS!')\n",
    "            new_game = input(\"would you like to play again? Enter 'y' or 'n'\")\n",
    "            if new_game[0] == 'y':\n",
    "                player_score = 0\n",
    "                dealer_score = 0\n",
    "                continue\n",
    "            elif new_game[0] == 'n':\n",
    "                print('Thanks for playing! ')\n",
    "                break\n",
    "            else:\n",
    "                print(\"Sorry your input is not recognized, please try again.\")\n",
    "                continue"
   ]
  }
 ],
 "metadata": {
  "kernelspec": {
   "display_name": "Python 3",
   "language": "python",
   "name": "python3"
  },
  "language_info": {
   "codemirror_mode": {
    "name": "ipython",
    "version": 3
   },
   "file_extension": ".py",
   "mimetype": "text/x-python",
   "name": "python",
   "nbconvert_exporter": "python",
   "pygments_lexer": "ipython3",
   "version": "3.8.3"
  }
 },
 "nbformat": 4,
 "nbformat_minor": 4
}
